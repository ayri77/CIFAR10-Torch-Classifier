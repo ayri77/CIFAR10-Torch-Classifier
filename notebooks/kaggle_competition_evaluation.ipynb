{
 "cells": [
  {
   "cell_type": "code",
   "execution_count": 1,
   "metadata": {},
   "outputs": [],
   "source": [
    "model_name = \"cnn_mixup_cutout_SGD\""
   ]
  },
  {
   "cell_type": "code",
   "execution_count": 2,
   "metadata": {},
   "outputs": [],
   "source": [
    "import sys\n",
    "import os\n",
    "# Add project root to sys.path\n",
    "project_root = os.path.abspath(os.path.join(os.getcwd(), \"..\"))\n",
    "if project_root not in sys.path:\n",
    "    sys.path.append(project_root)\n",
    "from utils.paths import MODELS_DIR, DATA_DIR"
   ]
  },
  {
   "cell_type": "code",
   "execution_count": 7,
   "metadata": {},
   "outputs": [],
   "source": [
    "# CIFAR10-Torch-Classifier and config.py\n",
    "from core.cifar10_classifier import CIFAR10Classifier\n",
    "import torch\n",
    "import pandas as pd"
   ]
  },
  {
   "cell_type": "code",
   "execution_count": 4,
   "metadata": {},
   "outputs": [],
   "source": [
    "config_path = os.path.join(MODELS_DIR, model_name,  f\"{model_name}_config.json\")\n",
    "model_path = os.path.join(MODELS_DIR, model_name,  f\"{model_name}_best_model.pth\")\n",
    "\n",
    "assert os.path.exists(config_path), f\"Config not found at {config_path}\"\n",
    "assert os.path.exists(model_path), f\"Model not found at {model_path}\"\n",
    "\n",
    "model = CIFAR10Classifier.load_model(\n",
    "    model_name=model_name,\n",
    "    config_path=config_path,\n",
    "    model_path=model_path\n",
    ")\n",
    "\n",
    "model.summary()\n",
    "mean, std = torch.tensor(model.mean), torch.tensor(model.std)"
   ]
  },
  {
   "cell_type": "code",
   "execution_count": 5,
   "metadata": {},
   "outputs": [],
   "source": [
    "from torchvision import transforms\n",
    "from torch.utils.data import Dataset\n",
    "from PIL import Image\n",
    "import os\n",
    "\n",
    "class KaggleCIFAR10Dataset(Dataset):\n",
    "    def __init__(self, image_dir, transform=None):\n",
    "        self.image_dir = image_dir\n",
    "        self.image_paths = sorted([\n",
    "            os.path.join(image_dir, fname)\n",
    "            for fname in os.listdir(image_dir)\n",
    "            if fname.endswith(\".png\")\n",
    "        ], key=lambda x: int(os.path.splitext(os.path.basename(x))[0]))\n",
    "        self.transform = transform\n",
    "\n",
    "    def __len__(self):\n",
    "        return len(self.image_paths)\n",
    "\n",
    "    def __getitem__(self, idx):\n",
    "        img_path = self.image_paths[idx]\n",
    "        image = Image.open(img_path).convert(\"RGB\")\n",
    "        if self.transform:\n",
    "            image = self.transform(image)\n",
    "        return image, os.path.basename(img_path)\n"
   ]
  },
  {
   "cell_type": "code",
   "execution_count": 6,
   "metadata": {},
   "outputs": [],
   "source": [
    "kaggle_transform = transforms.Compose([\n",
    "    transforms.Resize((32, 32)),\n",
    "    transforms.ToTensor(),\n",
    "    transforms.Normalize(mean, std)\n",
    "])"
   ]
  },
  {
   "cell_type": "code",
   "execution_count": 17,
   "metadata": {},
   "outputs": [],
   "source": [
    "from tqdm import tqdm\n",
    "\n",
    "def generate_kaggle_submission(model, dataloader, class_names, output_path=\"submission.csv\", device=\"cuda\"):\n",
    "    model.model.eval()\n",
    "    predictions = []\n",
    "\n",
    "    with torch.no_grad():\n",
    "        for images, image_ids in tqdm(dataloader, desc=\"📤 Generating predictions\", unit=\"batch\"):\n",
    "            images = images.to(device)\n",
    "            outputs = model.model(images)\n",
    "            _, predicted = torch.max(outputs, 1)\n",
    "\n",
    "            for img_id, label in zip(image_ids, predicted.cpu().numpy()):\n",
    "                predictions.append((img_id, class_names[label]))\n",
    "\n",
    "    df = pd.DataFrame(predictions, columns=[\"Id\", \"Label\"])\n",
    "    df.to_csv(output_path, index=False)\n",
    "    print(f\"\\n✅ Saved submission to {output_path}\")\n"
   ]
  },
  {
   "cell_type": "code",
   "execution_count": null,
   "metadata": {},
   "outputs": [
    {
     "name": "stderr",
     "output_type": "stream",
     "text": [
      "📤 Generating predictions:   9%|▉         | 206/2344 [01:52<41:08,  1.15s/batch]"
     ]
    }
   ],
   "source": [
    "# prepare dataset and loader\n",
    "image_path = os.path.join(DATA_DIR, \"Kaggle\", \"test\")\n",
    "dataset = KaggleCIFAR10Dataset(\n",
    "    image_dir=image_path,\n",
    "    transform=kaggle_transform\n",
    ")\n",
    "loader = torch.utils.data.DataLoader(dataset, batch_size=128, shuffle=False)\n",
    "\n",
    "# generate predictions\n",
    "class_names = [\"airplane\", \"automobile\", \"bird\", \"cat\", \"deer\", \"dog\", \"frog\", \"horse\", \"ship\", \"truck\"]\n",
    "generate_kaggle_submission(model, loader, class_names)\n"
   ]
  }
 ],
 "metadata": {
  "kernelspec": {
   "display_name": ".venv",
   "language": "python",
   "name": "python3"
  },
  "language_info": {
   "codemirror_mode": {
    "name": "ipython",
    "version": 3
   },
   "file_extension": ".py",
   "mimetype": "text/x-python",
   "name": "python",
   "nbconvert_exporter": "python",
   "pygments_lexer": "ipython3",
   "version": "3.11.9"
  }
 },
 "nbformat": 4,
 "nbformat_minor": 2
}
