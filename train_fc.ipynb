{
 "cells": [
  {
   "cell_type": "code",
   "execution_count": null,
   "metadata": {},
   "outputs": [],
   "source": [
    "from cifar10_classifier import CIFAR10Classifier\n",
    "from cifar10_model import CIFAR10_torch\n",
    "import torch"
   ]
  },
  {
   "cell_type": "code",
   "execution_count": null,
   "metadata": {},
   "outputs": [],
   "source": [
    "device = torch.device(\"cuda\" if torch.cuda.is_available() else \"cpu\")\n",
    "\n",
    "model_cls = CIFAR10Classifier(\n",
    "    name=\"torch_1024_5\",\n",
    "    input_shape=input_shape,\n",
    "    num_classes=num_classes,\n",
    "    hidden_layers=[1024,512,256,128,64],\n",
    "    dropout_rate=[0.3,0.3,0.3,0.3,0.3],\n",
    "    lr=LR,\n",
    "    device=device\n",
    "    )\n",
    "model_cls.build_model()\n",
    "model_cls.compile()\n",
    "model_cls.summary()"
   ]
  }
 ],
 "metadata": {
  "kernelspec": {
   "display_name": "Python (.venv Homework)",
   "language": "python",
   "name": "venv_homework"
  },
  "language_info": {
   "codemirror_mode": {
    "name": "ipython",
    "version": 3
   },
   "file_extension": ".py",
   "mimetype": "text/x-python",
   "name": "python",
   "nbconvert_exporter": "python",
   "pygments_lexer": "ipython3",
   "version": "3.11.9"
  }
 },
 "nbformat": 4,
 "nbformat_minor": 2
}
